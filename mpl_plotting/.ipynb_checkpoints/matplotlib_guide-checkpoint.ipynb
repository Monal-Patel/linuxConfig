{
 "cells": [
  {
   "cell_type": "code",
   "execution_count": null,
   "metadata": {},
   "outputs": [],
   "source": [
    "#scale factors in x and y\n",
    "sx = 0.5\n",
    "sy = 1\n",
    "size = *np.array([sx*8.3,11.7*sy]) #A4 page size(8.3 x 11.7 inch)\n",
    "\n",
    "fig,axes = plt.subplots(1,1)\n",
    "fig.suptitle('Title')\n",
    "fig.set_size_inches(size)\n",
    "\n",
    "axes.plot(np.sum(points_a/1e6,axis=1),label='case a')\n",
    "axes.legend()\n",
    "axes.set_ylabel('ylabel')\n",
    "axes.set_xlabel('xlabel')\n",
    "\n",
    "axes.legend(bbox_to_anchor=(1.05,1))\n",
    "plt.savefig(folder_latex + 'figure name',bbox_inches='tight',format='pdf')"
   ]
  }
 ],
 "metadata": {
  "kernelspec": {
   "display_name": "Python 3",
   "language": "python",
   "name": "python3"
  },
  "language_info": {
   "codemirror_mode": {
    "name": "ipython",
    "version": 3
   },
   "file_extension": ".py",
   "mimetype": "text/x-python",
   "name": "python",
   "nbconvert_exporter": "python",
   "pygments_lexer": "ipython3",
   "version": "3.7.7"
  }
 },
 "nbformat": 4,
 "nbformat_minor": 2
}
