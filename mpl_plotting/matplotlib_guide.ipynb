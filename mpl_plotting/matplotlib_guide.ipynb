{
 "cells": [
  {
   "cell_type": "code",
   "execution_count": null,
   "metadata": {},
   "outputs": [],
   "source": [
    "#scale factors in x and y\n",
    "sx = 0.5\n",
    "sy = 1\n",
    "size = np.array([sx*8.3,11.7*sy]) #A4 page size(8.3 x 11.7 inch)\n",
    "\n",
    "fig,axes = plt.subplots(1,1)\n",
    "fig.suptitle('Title')\n",
    "fig.set_size_inches(size)\n",
    "\n",
    "axes.plot(np.sum(points_a/1e6,axis=1),label='case a')\n",
    "axes.legend()\n",
    "axes.set_ylabel('ylabel')\n",
    "axes.set_xlabel('xlabel')\n",
    "\n",
    "axes.legend(bbox_to_anchor=(1.05,1))\n",
    "plt.show()\n",
    "plt.savefig(folder_latex + 'figure name',bbox_inches='tight',format='pdf')"
   ]
  },
  {
   "cell_type": "code",
   "execution_count": 1,
   "metadata": {},
   "outputs": [
    {
     "data": {
      "text/plain": [
       "<Figure size 640x480 with 1 Axes>"
      ]
     },
     "metadata": {},
     "output_type": "display_data"
    }
   ],
   "source": [
    "\n",
    "#updat matplotlib handler\n",
    "import matplotlib.pyplot as plt\n",
    "from matplotlib.legend_handler import HandlerLine2D\n",
    "\n",
    "plt.plot([1,3,2], marker='o', label='something')\n",
    "plt.plot([2,3,3], marker='o', label='something else')\n",
    "\n",
    "def update_prop(handle, orig):\n",
    "    handle.update_from(orig)\n",
    "    handle.set_marker(\"\")\n",
    "\n",
    "plt.legend(handler_map={plt.Line2D:HandlerLine2D(update_func=update_prop)})\n",
    "\n",
    "plt.show()"
   ]
  },
  {
   "cell_type": "code",
   "execution_count": 3,
   "metadata": {},
   "outputs": [
    {
     "data": {
      "image/png": "[encoded data removed]",
      "text/plain": [
       "<Figure size 432x288 with 1 Axes>"
      ]
     },
     "metadata": {
      "needs_background": "light"
     },
     "output_type": "display_data"
    }
   ],
   "source": [
    "#custom legend\n",
    "\n",
    "from matplotlib.patches import Patch\n",
    "from matplotlib.lines import Line2D\n",
    "\n",
    "legend_elements = [Line2D([0], [0], color='b', lw=4, label='Line'),\n",
    "                   Line2D([0], [0], marker='s', color='w', label='Scatter',\n",
    "                          markerfacecolor='g', markersize=15),\n",
    "                   Patch(facecolor='orange', edgecolor='r',\n",
    "                         label='Color Patch')]\n",
    "\n",
    "# Create the figure\n",
    "fig, ax = plt.subplots()\n",
    "ax.legend(handles=legend_elements, loc='center')\n",
    "\n",
    "plt.show()"
   ]
  },
  {
   "cell_type": "code",
   "execution_count": null,
   "metadata": {},
   "outputs": [],
   "source": [
    "def to_scientific_notation(number):\n",
    "    a, b = '{:.4E}'.format(number).split('E')\n",
    "    return '{:.5f}E{:+03d}'.format(float(a)/10, int(b)+1)"
   ]
  }
 ],
 "metadata": {
  "kernelspec": {
   "display_name": "Python 3",
   "language": "python",
   "name": "python3"
  },
  "language_info": {
   "codemirror_mode": {
    "name": "ipython",
    "version": 3
   },
   "file_extension": ".py",
   "mimetype": "text/x-python",
   "name": "python",
   "nbconvert_exporter": "python",
   "pygments_lexer": "ipython3",
   "version": "3.7.7"
  }
 },
 "nbformat": 4,
 "nbformat_minor": 2
}
